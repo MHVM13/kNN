{
  "nbformat": 4,
  "nbformat_minor": 0,
  "metadata": {
    "colab": {
      "provenance": [],
      "collapsed_sections": []
    },
    "kernelspec": {
      "name": "python3",
      "display_name": "Python 3"
    },
    "language_info": {
      "name": "python"
    }
  },
  "cells": [
    {
      "cell_type": "code",
      "execution_count": 64,
      "metadata": {
        "id": "_oJdpybDwMYW",
        "colab": {
          "base_uri": "https://localhost:8080/"
        },
        "outputId": "10f61c0b-88d9-497e-89f1-b2d1e3460e62"
      },
      "outputs": [
        {
          "output_type": "stream",
          "name": "stdout",
          "text": [
            "Часы сна5\n",
            "Трудоустройство0\n",
            "Вес90\n",
            "Рост175\n",
            "Расстояние до МИРЭА в часах2\n",
            "Кол-во ближайших соседей3\n",
            "Чай\n"
          ]
        }
      ],
      "source": [
        "import numpy as np\n",
        "import pandas as pd\n",
        "import math\n",
        "\n",
        "data = pd.read_excel('data.xlsx')\n",
        "\n",
        "data = data.rename(columns={\n",
        "        'Часы сна':'sleepHours',\n",
        "        'Трудоустройство' : 'isWorking',\n",
        "        'Вес' :'weight',\n",
        "        'Рост' :'height',\n",
        "        'Расстояние до МИРЭА в часах' :'roadHours',\n",
        "        'Родители (мама, папа) что пьют' : 'parents',\n",
        "        'К/Ч' : 'result',})\n",
        "\n",
        "class InputData:\n",
        "  # Для храненения введенных данных\n",
        "  def __init__(self, sleepHours, isWorking, weight, height, roadHours):\n",
        "    self.sleepHours = sleepHours\n",
        "    self.isWorking = isWorking\n",
        "    self.weight = weight\n",
        "    self.height = height\n",
        "    self.roadHours = roadHours\n",
        "\n",
        "# Ввод данных\n",
        "inputData = InputData(int(input('Часы сна: ')), int(input('Трудоустройство: ')), int(input('Вес: ')), int(input('Рост: ')), int(input('Расстояние до МИРЭА в часах: ')))\n",
        "kValue = int(input('Кол-во ближайших соседей: '))\n",
        "\n",
        "# Нормализация\n",
        "data['isWorking'] = data['isWorking'] * 10\n",
        "data['weight'] = data['weight'] / 10\n",
        "data['height'] = data['height'] / 15\n",
        "data['roadHours'] = data['roadHours'] * 5\n",
        "\n",
        "# Расстояния\n",
        "dist = []\n",
        "i = 0\n",
        "\n",
        "for value in data['sleepHours']:\n",
        "  dist.append(math.sqrt((inputData.sleepHours - data['sleepHours'].loc[data.index[i]]) ** 2 + (inputData.isWorking - data['isWorking'].loc[data.index[i]]) ** 2 + (inputData.weight  - data['weight'].loc[data.index[i]]) ** 2 + (inputData.height  - data['height'].loc[data.index[i]]) ** 2 + (inputData.roadHours  - data['roadHours'].loc[data.index[i]]) ** 2))\n",
        "  i += 1\n",
        "\n",
        "data['dist'] = dist\n",
        "data = data.sort_values('dist')\n",
        "\n",
        "i = 0\n",
        "teaCounter = 0\n",
        "coffeeCounter = 0\n",
        "\n",
        "while (i < kValue):\n",
        "  if (data['result'].loc[data.index[i]] == 'ч'):\n",
        "    teaCounter += 1\n",
        "  else:\n",
        "    coffeeCounter += 1\n",
        "  i += 1\n",
        "\n",
        "# Вывод результатов\n",
        "if (teaCounter > coffeeCounter):\n",
        "  print('Чай')\n",
        "else:\n",
        "  if (teaCounter < coffeeCounter):\n",
        "    print('Кофе')\n",
        "  else: \n",
        "    print('Чай')\n",
        "\n",
        "\n",
        "  \n",
        "\n",
        "\n"
      ]
    }
  ]
}